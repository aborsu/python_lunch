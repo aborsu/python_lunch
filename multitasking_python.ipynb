{
 "cells": [
  {
   "cell_type": "markdown",
   "metadata": {
    "slideshow": {
     "slide_type": "slide"
    }
   },
   "source": [
    "<h1><center>Python Lunch</center></h1>\n",
    "<center><img src=\"images/python_lunch.png\"></center>\n",
    "<h2><center>Asynchronous code in python</center></h2>\n",
    "<h3><center>multithreading, multiprocessing, event loop and the GIL</center></h3>\n",
    "\n",
    "\n",
    "\n",
    "\n",
    "\n",
    "\n",
    "\n"
   ]
  },
  {
   "cell_type": "markdown",
   "metadata": {
    "slideshow": {
     "slide_type": "slide"
    }
   },
   "source": [
    "<center><img src=\"images/why.jpg\"></center>"
   ]
  },
  {
   "cell_type": "markdown",
   "metadata": {
    "slideshow": {
     "slide_type": "slide"
    }
   },
   "source": [
    "# 1. A bit of history\n",
    "## Batch processing\n",
    "https://www.computerhistory.org/revolution/punched-cards/2/211/2253\n",
    "<center><img src=\"images/batch_processing.png\"></center>\n",
    "\n"
   ]
  },
  {
   "cell_type": "markdown",
   "metadata": {
    "slideshow": {
     "slide_type": "notes"
    }
   },
   "source": [
    "Computers used to run in batches.\n",
    "\n",
    "This meant that programs where given and run sequentially.\n",
    "\n",
    "Often the queue for the computer was long and you sometimes had to wait multiple days to get your results.\n",
    "\n",
    "Not ideal when trying to debug your application."
   ]
  },
  {
   "cell_type": "markdown",
   "metadata": {
    "slideshow": {
     "slide_type": "slide"
    }
   },
   "source": [
    "## Time sharing computers\n",
    "\n",
    "<center><img src=\"images/timesharing.jpg\"></center>"
   ]
  },
  {
   "cell_type": "markdown",
   "metadata": {
    "slideshow": {
     "slide_type": "notes"
    }
   },
   "source": [
    "Time sharing allows multiple users to debug at the same time, maximising the use of expensive computers.\n",
    "\n",
    "Unfortunately this creates new problems, with multiple users/processes sharing resources (memory/files). The question of access management and scheduling come into the picture.\n",
    "\n",
    "It is in this context that unix is born. It's a time sharing system that allows fine **controlled file access** and **isolated memory spaces**."
   ]
  },
  {
   "cell_type": "markdown",
   "metadata": {
    "slideshow": {
     "slide_type": "slide"
    }
   },
   "source": [
    "## Multi(tasking)processing is born\n",
    "<center><img src=\"images/multiprocessing.jpeg\"></center>"
   ]
  },
  {
   "cell_type": "markdown",
   "metadata": {
    "slideshow": {
     "slide_type": "slide"
    }
   },
   "source": [
    "### Wouldn't it be great if I could share memory between two processes instead of having to pass messages?\n",
    "* Multi-threading is born \n",
    "  * Green threads\n",
    "  * kernel threads"
   ]
  },
  {
   "cell_type": "code",
   "execution_count": 9,
   "metadata": {
    "slideshow": {
     "slide_type": "skip"
    }
   },
   "outputs": [],
   "source": [
    "from concurrent.futures import ProcessPoolExecutor, ThreadPoolExecutor\n",
    "import numpy as np\n",
    "import pandas as pd\n",
    "import time\n",
    "import matplotlib.pyplot as plt\n",
    "import glob\n",
    "from PIL import Image\n",
    "import random\n",
    "import string\n",
    "%matplotlib inline"
   ]
  },
  {
   "cell_type": "code",
   "execution_count": 10,
   "metadata": {
    "slideshow": {
     "slide_type": "skip"
    }
   },
   "outputs": [],
   "source": [
    "MULTITHREADING_TITLE=\"Multithreading\"\n",
    "MULTIPROCESSING_TITLE=\"Multiprocessing\"\n",
    "\n",
    "def visualize_runtimes(results, title):\n",
    "    start,stop = np.array(results).T\n",
    "    plt.barh(range(len(start)),stop-start,left=start)\n",
    "    plt.grid(axis='x')\n",
    "    plt.ylabel(\"Tasks\")\n",
    "    plt.xlabel(\"Seconds\")\n",
    "    plt.title(title)\n",
    "    return stop[-1]-start[0]"
   ]
  },
  {
   "cell_type": "code",
   "execution_count": 11,
   "metadata": {
    "slideshow": {
     "slide_type": "skip"
    }
   },
   "outputs": [],
   "source": [
    "def multithreading(func, args, workers):\n",
    "    begin_time = time.time()\n",
    "    with ThreadPoolExecutor(max_workers=workers) as executor:\n",
    "        res = executor.map(func, args, [begin_time for i in range(len(args))])\n",
    "    return list(res)\n",
    "        \n",
    "def multiprocessing(func, args, workers):\n",
    "    begin_time = time.time()\n",
    "    with ProcessPoolExecutor(max_workers=workers) as executor:\n",
    "        res = executor.map(func, args, [begin_time for i in range(len(args))])\n",
    "    return list(res)"
   ]
  },
  {
   "cell_type": "markdown",
   "metadata": {
    "slideshow": {
     "slide_type": "slide"
    }
   },
   "source": [
    "<center><h1>First example API Calls</h1></center>\n",
    "<center><h3>Network latency</h3></center>"
   ]
  },
  {
   "cell_type": "code",
   "execution_count": 28,
   "metadata": {
    "slideshow": {
     "slide_type": "subslide"
    }
   },
   "outputs": [],
   "source": [
    "from urllib.request import urlopen\n",
    "\n",
    "def download(url, base):\n",
    "    start = time.time() - base\n",
    "    try:\n",
    "        resp = urlopen(url)\n",
    "    except Exception as e:\n",
    "        print ('ERROR: %s' % e)\n",
    "    stop = time.time() - base\n",
    "    return start,stop"
   ]
  },
  {
   "cell_type": "code",
   "execution_count": 29,
   "metadata": {
    "slideshow": {
     "slide_type": "-"
    }
   },
   "outputs": [],
   "source": [
    "N = 16\n",
    "URL = 'http://scholar.princeton.edu/sites/default/files/oversize_pdf_test_0.pdf'\n",
    "urls = [URL for i in range(N)]"
   ]
  },
  {
   "cell_type": "markdown",
   "metadata": {
    "slideshow": {
     "slide_type": "subslide"
    }
   },
   "source": [
    "<center><h3>Serial</h3></center>"
   ]
  },
  {
   "cell_type": "code",
   "execution_count": 6,
   "metadata": {
    "slideshow": {
     "slide_type": "-"
    }
   },
   "outputs": [
    {
     "data": {
      "text/plain": [
       "14.866183042526245"
      ]
     },
     "execution_count": 6,
     "metadata": {},
     "output_type": "execute_result"
    },
    {
     "data": {
      "image/png": "[encoded data removed]",
      "text/plain": [
       "<matplotlib.figure.Figure at 0x7f225e96b0f0>"
      ]
     },
     "metadata": {
      "needs_background": "light"
     },
     "output_type": "display_data"
    }
   ],
   "source": [
    "begin_time = time.time()\n",
    "api_call_serial = visualize_runtimes([download(url, begin_time) for url in urls], 'Serial')\n",
    "api_call_serial"
   ]
  },
  {
   "cell_type": "markdown",
   "metadata": {
    "slideshow": {
     "slide_type": "subslide"
    }
   },
   "source": [
    "<center><h3>Multithreading</h3></center>"
   ]
  },
  {
   "cell_type": "code",
   "execution_count": 7,
   "metadata": {
    "slideshow": {
     "slide_type": "-"
    }
   },
   "outputs": [
    {
     "name": "stdout",
     "output_type": "stream",
     "text": [
      "15.7963414192\n",
      "8.22337222099\n",
      "4.97830271721\n"
     ]
    },
    {
     "data": {
      "image/png": "[encoded data removed]",
      "text/plain": [
       "<matplotlib.figure.Figure at 0x7f22532de908>"
      ]
     },
     "metadata": {
      "needs_background": "light"
     },
     "output_type": "display_data"
    }
   ],
   "source": [
    "api_call_mt_1 = visualize_runtimes(multithreading(download, urls, 1), \"Single Thread\")\n",
    "print(api_call_mt_1)\n",
    "\n",
    "api_call_mt_2 = visualize_runtimes(multithreading(download, urls, 2),MULTITHREADING_TITLE)\n",
    "print(api_call_mt_2)\n",
    "\n",
    "api_call_mt_4 = visualize_runtimes(multithreading(download, urls, 4),MULTITHREADING_TITLE)\n",
    "print(api_call_mt_4)"
   ]
  },
  {
   "cell_type": "markdown",
   "metadata": {
    "slideshow": {
     "slide_type": "subslide"
    }
   },
   "source": [
    "<center><h3>Multiprocessing</h3></center>"
   ]
  },
  {
   "cell_type": "code",
   "execution_count": 8,
   "metadata": {
    "slideshow": {
     "slide_type": "-"
    }
   },
   "outputs": [
    {
     "name": "stdout",
     "output_type": "stream",
     "text": [
      "17.1885671616\n",
      "9.76101279259\n",
      "6.05080461502\n"
     ]
    },
    {
     "data": {
      "image/png": "[encoded data removed]",
      "text/plain": [
       "<matplotlib.figure.Figure at 0x7f225321bcc0>"
      ]
     },
     "metadata": {
      "needs_background": "light"
     },
     "output_type": "display_data"
    }
   ],
   "source": [
    "api_call_mp_1 = visualize_runtimes(multiprocessing(download, urls, 1), \"Single Process\")\n",
    "print(api_call_mp_1)\n",
    "\n",
    "api_call_mp_2 = visualize_runtimes(multiprocessing(download, urls, 2), MULTIPROCESSING_TITLE)\n",
    "print(api_call_mp_2)\n",
    "\n",
    "api_call_mp_4 = visualize_runtimes(multiprocessing(download, urls, 4), MULTIPROCESSING_TITLE)\n",
    "print(api_call_mp_4)"
   ]
  },
  {
   "cell_type": "markdown",
   "metadata": {
    "slideshow": {
     "slide_type": "subslide"
    }
   },
   "source": [
    "<center><h3>Conclusion</h3></center>"
   ]
  },
  {
   "cell_type": "code",
   "execution_count": 9,
   "metadata": {
    "scrolled": false,
    "slideshow": {
     "slide_type": "-"
    }
   },
   "outputs": [
    {
     "data": {
      "text/html": [
       "<div>\n",
       "<style>\n",
       "    .dataframe thead tr:only-child th {\n",
       "        text-align: right;\n",
       "    }\n",
       "\n",
       "    .dataframe thead th {\n",
       "        text-align: left;\n",
       "    }\n",
       "\n",
       "    .dataframe tbody tr th {\n",
       "        vertical-align: top;\n",
       "    }\n",
       "</style>\n",
       "<table border=\"1\" class=\"dataframe\">\n",
       "  <thead>\n",
       "    <tr style=\"text-align: right;\">\n",
       "      <th></th>\n",
       "      <th>Serial</th>\n",
       "      <th>Threads</th>\n",
       "      <th>Processes</th>\n",
       "    </tr>\n",
       "  </thead>\n",
       "  <tbody>\n",
       "    <tr>\n",
       "      <th>0</th>\n",
       "      <td>14.866183</td>\n",
       "      <td>15.796341</td>\n",
       "      <td>17.188567</td>\n",
       "    </tr>\n",
       "    <tr>\n",
       "      <th>1</th>\n",
       "      <td>NaN</td>\n",
       "      <td>8.223372</td>\n",
       "      <td>9.761013</td>\n",
       "    </tr>\n",
       "    <tr>\n",
       "      <th>2</th>\n",
       "      <td>NaN</td>\n",
       "      <td>4.978303</td>\n",
       "      <td>6.050805</td>\n",
       "    </tr>\n",
       "  </tbody>\n",
       "</table>\n",
       "</div>"
      ],
      "text/plain": [
       "      Serial    Threads  Processes\n",
       "0  14.866183  15.796341  17.188567\n",
       "1        NaN   8.223372   9.761013\n",
       "2        NaN   4.978303   6.050805"
      ]
     },
     "execution_count": 9,
     "metadata": {},
     "output_type": "execute_result"
    }
   ],
   "source": [
    "pd.DataFrame({\n",
    "    'Serial': [api_call_serial, None, None],\n",
    "    'Threads': [api_call_mt_1, api_call_mt_2, api_call_mt_4],\n",
    "    'Processes': [api_call_mp_1, api_call_mp_2, api_call_mp_4]\n",
    "})[['Serial', 'Threads', 'Processes']]"
   ]
  },
  {
   "cell_type": "markdown",
   "metadata": {
    "slideshow": {
     "slide_type": "notes"
    }
   },
   "source": [
    "For blocking IO tasks (network, disk read, waiting for user input). Multi-threading and multi processing are extremely effective."
   ]
  },
  {
   "cell_type": "markdown",
   "metadata": {
    "slideshow": {
     "slide_type": "slide"
    }
   },
   "source": [
    "<center><h1>Hitting the GIL</h1></center>\n"
   ]
  },
  {
   "cell_type": "markdown",
   "metadata": {
    "slideshow": {
     "slide_type": "subslide"
    }
   },
   "source": [
    "## What is the GIL\n",
    "\n",
    "* Python uses reference counts in order to do garbage collection (A whole other topic).\n"
   ]
  },
  {
   "cell_type": "code",
   "execution_count": 10,
   "metadata": {
    "slideshow": {
     "slide_type": "-"
    }
   },
   "outputs": [
    {
     "name": "stdout",
     "output_type": "stream",
     "text": [
      "a ->  3\n",
      "b ->  4\n",
      "b ->  3\n"
     ]
    }
   ],
   "source": [
    "import sys\n",
    "\n",
    "a = 'TOTO'\n",
    "print(\"a -> \", sys.getrefcount(a))\n",
    "b = a\n",
    "print(\"b -> \", sys.getrefcount(b))\n",
    "a = None\n",
    "print(\"b -> \", sys.getrefcount(b))"
   ]
  },
  {
   "cell_type": "markdown",
   "metadata": {
    "slideshow": {
     "slide_type": "-"
    }
   },
   "source": [
    "* The GIL makes this garbage collection:\n",
    "    * fast\n",
    "    * simple\n",
    "    * thread safe\n",
    "\n",
    "\n",
    "https://realpython.com/python-gil/"
   ]
  },
  {
   "cell_type": "markdown",
   "metadata": {
    "slideshow": {
     "slide_type": "subslide"
    }
   },
   "source": [
    "<center><h1><bold>BUT</bold></h1></center>\n",
    "<center><h3>Only one thread can use the python interpreter at the same time !!!</h3></center>"
   ]
  },
  {
   "cell_type": "code",
   "execution_count": 11,
   "metadata": {
    "slideshow": {
     "slide_type": "subslide"
    }
   },
   "outputs": [
    {
     "name": "stdout",
     "output_type": "stream",
     "text": [
      "19\n"
     ]
    }
   ],
   "source": [
    "COUNT = 50000000\n",
    "\n",
    "def countdown(n, base):\n",
    "    start = time.time() - base\n",
    "    while n>0:\n",
    "        n -= 1\n",
    "    stop = time.time() - base\n",
    "    return start,stop\n",
    "    \n",
    "N = 16\n",
    "COUNTS = [COUNT for i in range(N)]\n",
    "\n",
    "import sys\n",
    "print(sys.getrefcount(COUNT))"
   ]
  },
  {
   "cell_type": "markdown",
   "metadata": {
    "slideshow": {
     "slide_type": "subslide"
    }
   },
   "source": [
    "<center><h3>Serial</h3></center>"
   ]
  },
  {
   "cell_type": "code",
   "execution_count": 12,
   "metadata": {
    "slideshow": {
     "slide_type": "-"
    }
   },
   "outputs": [
    {
     "data": {
      "text/plain": [
       "43.196173191070557"
      ]
     },
     "execution_count": 12,
     "metadata": {},
     "output_type": "execute_result"
    },
    {
     "data": {
      "image/png": "[encoded data removed]",
      "text/plain": [
       "<matplotlib.figure.Figure at 0x7f22528f75c0>"
      ]
     },
     "metadata": {
      "needs_background": "light"
     },
     "output_type": "display_data"
    }
   ],
   "source": [
    "begin_time = time.time()\n",
    "cd_serial = visualize_runtimes([countdown(_, begin_time) for _ in COUNTS], 'Serial')\n",
    "cd_serial"
   ]
  },
  {
   "cell_type": "markdown",
   "metadata": {
    "slideshow": {
     "slide_type": "subslide"
    }
   },
   "source": [
    "<center><h3>Multithreading</h3></center>"
   ]
  },
  {
   "cell_type": "code",
   "execution_count": 13,
   "metadata": {
    "slideshow": {
     "slide_type": "-"
    }
   },
   "outputs": [
    {
     "name": "stdout",
     "output_type": "stream",
     "text": [
      "44.2802989483\n",
      "39.8211803436\n",
      "41.1003158092\n"
     ]
    },
    {
     "data": {
      "image/png": "[encoded data removed]",
      "text/plain": [
       "<matplotlib.figure.Figure at 0x7f22510100f0>"
      ]
     },
     "metadata": {
      "needs_background": "light"
     },
     "output_type": "display_data"
    }
   ],
   "source": [
    "cd_mt_1 = visualize_runtimes(multithreading(countdown, COUNTS, 1), \"Single Thread\")\n",
    "print(cd_mt_1)\n",
    "\n",
    "cd_mt_2 = visualize_runtimes(multithreading(countdown, COUNTS, 2),MULTITHREADING_TITLE)\n",
    "print(cd_mt_2)\n",
    "\n",
    "cd_mt_4 = visualize_runtimes(multithreading(countdown, COUNTS, 4),MULTITHREADING_TITLE)\n",
    "print(cd_mt_4)"
   ]
  },
  {
   "cell_type": "markdown",
   "metadata": {
    "slideshow": {
     "slide_type": "subslide"
    }
   },
   "source": [
    "<center><h3>Multiprocessing</h3></center>"
   ]
  },
  {
   "cell_type": "code",
   "execution_count": 14,
   "metadata": {
    "slideshow": {
     "slide_type": "-"
    }
   },
   "outputs": [
    {
     "name": "stdout",
     "output_type": "stream",
     "text": [
      "42.7516133785\n",
      "24.7859609127\n",
      "15.5726885796\n"
     ]
    },
    {
     "data": {
      "image/png": "[encoded data removed]",
      "text/plain": [
       "<matplotlib.figure.Figure at 0x7f2253286b00>"
      ]
     },
     "metadata": {
      "needs_background": "light"
     },
     "output_type": "display_data"
    }
   ],
   "source": [
    "cd_mp_1 = visualize_runtimes(multiprocessing(countdown, COUNTS, 1), \"Single Process\")\n",
    "print(cd_mp_1)\n",
    "\n",
    "cd_mp_2 = visualize_runtimes(multiprocessing(countdown, COUNTS, 2), MULTIPROCESSING_TITLE)\n",
    "print(cd_mp_2)\n",
    "\n",
    "cd_mp_4 = visualize_runtimes(multiprocessing(countdown, COUNTS, 4), MULTIPROCESSING_TITLE)\n",
    "print(cd_mp_4)"
   ]
  },
  {
   "cell_type": "markdown",
   "metadata": {
    "slideshow": {
     "slide_type": "subslide"
    }
   },
   "source": [
    "<center><h3>Conclusion</h3></center>"
   ]
  },
  {
   "cell_type": "code",
   "execution_count": 15,
   "metadata": {
    "scrolled": true,
    "slideshow": {
     "slide_type": "-"
    }
   },
   "outputs": [
    {
     "data": {
      "text/html": [
       "<div>\n",
       "<style>\n",
       "    .dataframe thead tr:only-child th {\n",
       "        text-align: right;\n",
       "    }\n",
       "\n",
       "    .dataframe thead th {\n",
       "        text-align: left;\n",
       "    }\n",
       "\n",
       "    .dataframe tbody tr th {\n",
       "        vertical-align: top;\n",
       "    }\n",
       "</style>\n",
       "<table border=\"1\" class=\"dataframe\">\n",
       "  <thead>\n",
       "    <tr style=\"text-align: right;\">\n",
       "      <th></th>\n",
       "      <th>Serial</th>\n",
       "      <th>Threads</th>\n",
       "      <th>Processes</th>\n",
       "    </tr>\n",
       "  </thead>\n",
       "  <tbody>\n",
       "    <tr>\n",
       "      <th>0</th>\n",
       "      <td>43.196173</td>\n",
       "      <td>44.280299</td>\n",
       "      <td>42.751613</td>\n",
       "    </tr>\n",
       "    <tr>\n",
       "      <th>1</th>\n",
       "      <td>NaN</td>\n",
       "      <td>39.821180</td>\n",
       "      <td>24.785961</td>\n",
       "    </tr>\n",
       "    <tr>\n",
       "      <th>2</th>\n",
       "      <td>NaN</td>\n",
       "      <td>41.100316</td>\n",
       "      <td>15.572689</td>\n",
       "    </tr>\n",
       "  </tbody>\n",
       "</table>\n",
       "</div>"
      ],
      "text/plain": [
       "      Serial    Threads  Processes\n",
       "0  43.196173  44.280299  42.751613\n",
       "1        NaN  39.821180  24.785961\n",
       "2        NaN  41.100316  15.572689"
      ]
     },
     "execution_count": 15,
     "metadata": {},
     "output_type": "execute_result"
    }
   ],
   "source": [
    "pd.DataFrame({\n",
    "    'Serial': [cd_serial, None, None],\n",
    "    'Threads': [cd_mt_1, cd_mt_2, cd_mt_4],\n",
    "    'Processes': [cd_mp_1, cd_mp_2, cd_mp_4]\n",
    "})[['Serial', 'Threads', 'Processes']]"
   ]
  },
  {
   "cell_type": "markdown",
   "metadata": {
    "slideshow": {
     "slide_type": "notes"
    }
   },
   "source": [
    "For cpu intensive tasks in python. Threading will not bring any performance boost."
   ]
  },
  {
   "cell_type": "markdown",
   "metadata": {
    "slideshow": {
     "slide_type": "subslide"
    }
   },
   "source": [
    "<img src=\"images/dont_thread.png\">\n",
    "<center>Or alternatively you can try using an alternative python interpreter (Pypy, Jython, Ironpython)</center>\n",
    "<center>Or wait for the <a href=\"https://lwn.net/Articles/754577/\">Gilectomy</a></center>"
   ]
  },
  {
   "cell_type": "markdown",
   "metadata": {
    "slideshow": {
     "slide_type": "slide"
    }
   },
   "source": [
    "<center><img src=\"images/multi_every.jpg\"></center>"
   ]
  },
  {
   "cell_type": "code",
   "execution_count": 16,
   "metadata": {
    "slideshow": {
     "slide_type": "subslide"
    }
   },
   "outputs": [],
   "source": [
    "def message_passing(text,base):\n",
    "    start = time.time() - base\n",
    "    f = open('output.txt', 'wt', encoding='utf-8')\n",
    "    f.write(text)\n",
    "    f.close()\n",
    "    stop = time.time() - base\n",
    "    return start,stop"
   ]
  },
  {
   "cell_type": "code",
   "execution_count": 17,
   "metadata": {
    "slideshow": {
     "slide_type": "-"
    }
   },
   "outputs": [],
   "source": [
    "N=30\n",
    "TEXT = ''.join(random.choice(string.ascii_lowercase) for i in range(10**8))"
   ]
  },
  {
   "cell_type": "markdown",
   "metadata": {
    "slideshow": {
     "slide_type": "subslide"
    }
   },
   "source": [
    "<center><h3>Serial</h3></center>"
   ]
  },
  {
   "cell_type": "code",
   "execution_count": 18,
   "metadata": {
    "slideshow": {
     "slide_type": "-"
    }
   },
   "outputs": [
    {
     "name": "stdout",
     "output_type": "stream",
     "text": [
      "13.3762421608\n"
     ]
    },
    {
     "data": {
      "image/png": "[encoded data removed]",
      "text/plain": [
       "<matplotlib.figure.Figure at 0x7f22529776d8>"
      ]
     },
     "metadata": {
      "needs_background": "light"
     },
     "output_type": "display_data"
    }
   ],
   "source": [
    "begin_time = time.time()\n",
    "io_serial = visualize_runtimes([message_passing(TEXT, begin_time) for i in range(N)],\"Serial\")\n",
    "print(io_serial)"
   ]
  },
  {
   "cell_type": "markdown",
   "metadata": {
    "slideshow": {
     "slide_type": "subslide"
    }
   },
   "source": [
    "<center><h3>Multithreading</h3></center>"
   ]
  },
  {
   "cell_type": "code",
   "execution_count": 19,
   "metadata": {
    "slideshow": {
     "slide_type": "subslide"
    }
   },
   "outputs": [
    {
     "name": "stdout",
     "output_type": "stream",
     "text": [
      "14.4636187553\n",
      "6.25122141838\n",
      "4.20003652573\n"
     ]
    },
    {
     "data": {
      "image/png": "[encoded data removed]",
      "text/plain": [
       "<matplotlib.figure.Figure at 0x7f2250c74860>"
      ]
     },
     "metadata": {
      "needs_background": "light"
     },
     "output_type": "display_data"
    }
   ],
   "source": [
    "io_mt1 = visualize_runtimes(multithreading(message_passing, [TEXT for i in range(N)], 1),\"Single Thread\")\n",
    "print(io_mt1)\n",
    "\n",
    "io_mt2 = visualize_runtimes(multithreading(message_passing, [TEXT for i in range(N)], 2),MULTITHREADING_TITLE)\n",
    "print(io_mt2)\n",
    "\n",
    "io_mt4 = visualize_runtimes(multithreading(message_passing, [TEXT for i in range(N)], 4),MULTITHREADING_TITLE)\n",
    "print(io_mt4)"
   ]
  },
  {
   "cell_type": "markdown",
   "metadata": {
    "slideshow": {
     "slide_type": "subslide"
    }
   },
   "source": [
    "<center><h3>Multiprocessing</h3></center>"
   ]
  },
  {
   "cell_type": "code",
   "execution_count": 20,
   "metadata": {
    "slideshow": {
     "slide_type": "subslide"
    }
   },
   "outputs": [
    {
     "name": "stdout",
     "output_type": "stream",
     "text": [
      "14.6610298157\n",
      "8.19692659378\n",
      "6.33686828613\n"
     ]
    },
    {
     "data": {
      "image/png": "[encoded data removed]",
      "text/plain": [
       "<matplotlib.figure.Figure at 0x7f2250ae2898>"
      ]
     },
     "metadata": {
      "needs_background": "light"
     },
     "output_type": "display_data"
    }
   ],
   "source": [
    "io_mp1 = visualize_runtimes(multiprocessing(message_passing, [TEXT for i in range(N)], 1),\"Single Process\")\n",
    "print(io_mp1)\n",
    "\n",
    "io_mp2 = visualize_runtimes(multiprocessing(message_passing, [TEXT for i in range(N)], 2),MULTIPROCESSING_TITLE)\n",
    "print(io_mp2)\n",
    "\n",
    "io_mp4 = visualize_runtimes(multiprocessing(message_passing, [TEXT for i in range(N)], 4),MULTIPROCESSING_TITLE)\n",
    "print(io_mp4)"
   ]
  },
  {
   "cell_type": "markdown",
   "metadata": {
    "slideshow": {
     "slide_type": "subslide"
    }
   },
   "source": [
    "# Results message passing"
   ]
  },
  {
   "cell_type": "code",
   "execution_count": 21,
   "metadata": {
    "slideshow": {
     "slide_type": "-"
    }
   },
   "outputs": [
    {
     "data": {
      "text/html": [
       "<div>\n",
       "<style>\n",
       "    .dataframe thead tr:only-child th {\n",
       "        text-align: right;\n",
       "    }\n",
       "\n",
       "    .dataframe thead th {\n",
       "        text-align: left;\n",
       "    }\n",
       "\n",
       "    .dataframe tbody tr th {\n",
       "        vertical-align: top;\n",
       "    }\n",
       "</style>\n",
       "<table border=\"1\" class=\"dataframe\">\n",
       "  <thead>\n",
       "    <tr style=\"text-align: right;\">\n",
       "      <th></th>\n",
       "      <th>Serial</th>\n",
       "      <th>Threads</th>\n",
       "      <th>Processes</th>\n",
       "    </tr>\n",
       "  </thead>\n",
       "  <tbody>\n",
       "    <tr>\n",
       "      <th>0</th>\n",
       "      <td>13.376242</td>\n",
       "      <td>14.463619</td>\n",
       "      <td>14.661030</td>\n",
       "    </tr>\n",
       "    <tr>\n",
       "      <th>1</th>\n",
       "      <td>NaN</td>\n",
       "      <td>6.251221</td>\n",
       "      <td>8.196927</td>\n",
       "    </tr>\n",
       "    <tr>\n",
       "      <th>2</th>\n",
       "      <td>NaN</td>\n",
       "      <td>4.200037</td>\n",
       "      <td>6.336868</td>\n",
       "    </tr>\n",
       "  </tbody>\n",
       "</table>\n",
       "</div>"
      ],
      "text/plain": [
       "      Serial    Threads  Processes\n",
       "0  13.376242  14.463619  14.661030\n",
       "1        NaN   6.251221   8.196927\n",
       "2        NaN   4.200037   6.336868"
      ]
     },
     "execution_count": 21,
     "metadata": {},
     "output_type": "execute_result"
    }
   ],
   "source": [
    "pd.DataFrame({\n",
    "    'Serial': [io_serial, None, None],\n",
    "    'Threads': [io_mt1, io_mt2, io_mt4],\n",
    "    'Processes': [io_mp1, io_mp2, io_mp4]\n",
    "})[['Serial', 'Threads', 'Processes']]"
   ]
  },
  {
   "cell_type": "markdown",
   "metadata": {
    "slideshow": {
     "slide_type": "notes"
    }
   },
   "source": [
    "Threads share memory, there is no cost of message passing.\n",
    "Multiprocess must pass message between each other which might lead to losing (parts of) the gains of using multi processing."
   ]
  },
  {
   "cell_type": "markdown",
   "metadata": {
    "slideshow": {
     "slide_type": "subslide"
    }
   },
   "source": [
    "# Exploiting the specificities of Linux\n",
    "#### This will NOT work on windows.\n",
    "<center><img src=\"images/forking.gif\"></center>"
   ]
  },
  {
   "cell_type": "markdown",
   "metadata": {
    "slideshow": {
     "slide_type": "subslide"
    }
   },
   "source": [
    "I'm no longer passing the variable across process, instead I use a variable that is part of the parent process's context.\n",
    "It is therefore transfered to the child procesees almost free of charge thanks to **copy on write**."
   ]
  },
  {
   "cell_type": "code",
   "execution_count": 22,
   "metadata": {
    "slideshow": {
     "slide_type": "-"
    }
   },
   "outputs": [],
   "source": [
    "with open('my_global.py', 'w') as fp:\n",
    "    fp.write(\"\"\"\n",
    "import random\n",
    "import string\n",
    "\n",
    "TEXT = ''.join(random.choice(string.ascii_lowercase) for i in range(10**8))\n",
    "    \"\"\")"
   ]
  },
  {
   "cell_type": "code",
   "execution_count": 23,
   "metadata": {
    "slideshow": {
     "slide_type": "-"
    }
   },
   "outputs": [],
   "source": [
    "import my_global"
   ]
  },
  {
   "cell_type": "code",
   "execution_count": 24,
   "metadata": {
    "slideshow": {
     "slide_type": "-"
    }
   },
   "outputs": [],
   "source": [
    "def bound_io_heavy(_, base):\n",
    "    start = time.time() - base\n",
    "    f = open('output.txt', 'wt', encoding='utf-8')\n",
    "    f.write(my_global.TEXT)\n",
    "    f.close()\n",
    "    stop = time.time() - base\n",
    "    return start,stop"
   ]
  },
  {
   "cell_type": "code",
   "execution_count": 25,
   "metadata": {
    "slideshow": {
     "slide_type": "subslide"
    }
   },
   "outputs": [
    {
     "name": "stdout",
     "output_type": "stream",
     "text": [
      "12.397462368\n",
      "6.4051835537\n",
      "4.05155062675\n"
     ]
    },
    {
     "data": {
      "image/png": "[encoded data removed]",
      "text/plain": [
       "<matplotlib.figure.Figure at 0x7f2250de4240>"
      ]
     },
     "metadata": {
      "needs_background": "light"
     },
     "output_type": "display_data"
    }
   ],
   "source": [
    "bio_mt1 = visualize_runtimes(multithreading(bound_io_heavy, [i for i in range(N)], 1),\"Single Thread\")\n",
    "print(bio_mt1)\n",
    "\n",
    "bio_mt2 = visualize_runtimes(multithreading(bound_io_heavy, [i for i in range(N)], 2),MULTITHREADING_TITLE)\n",
    "print(bio_mt2)\n",
    "\n",
    "bio_mt4 = visualize_runtimes(multithreading(bound_io_heavy, [i for i in range(N)], 4),MULTITHREADING_TITLE)\n",
    "print(bio_mt4)"
   ]
  },
  {
   "cell_type": "code",
   "execution_count": 26,
   "metadata": {
    "slideshow": {
     "slide_type": "subslide"
    }
   },
   "outputs": [
    {
     "name": "stdout",
     "output_type": "stream",
     "text": [
      "14.1506607533\n",
      "5.66581606865\n",
      "5.06301736832\n"
     ]
    },
    {
     "data": {
      "image/png": "[encoded data removed]",
      "text/plain": [
       "<matplotlib.figure.Figure at 0x7f225321b6d8>"
      ]
     },
     "metadata": {
      "needs_background": "light"
     },
     "output_type": "display_data"
    }
   ],
   "source": [
    "bio_mp1 = visualize_runtimes(multiprocessing(bound_io_heavy, [i for i in range(N)], 1),\"Single Process\")\n",
    "print(bio_mp1)\n",
    "\n",
    "bio_mp2 = visualize_runtimes(multiprocessing(bound_io_heavy, [i for i in range(N)], 2),MULTIPROCESSING_TITLE)\n",
    "print(bio_mp2)\n",
    "\n",
    "bio_mp4 = visualize_runtimes(multiprocessing(bound_io_heavy, [i for i in range(N)], 4),MULTIPROCESSING_TITLE)\n",
    "print(bio_mp4)"
   ]
  },
  {
   "cell_type": "markdown",
   "metadata": {
    "slideshow": {
     "slide_type": "subslide"
    }
   },
   "source": [
    "<h1>Conclusions</h1>"
   ]
  },
  {
   "cell_type": "code",
   "execution_count": 27,
   "metadata": {
    "slideshow": {
     "slide_type": "-"
    }
   },
   "outputs": [
    {
     "data": {
      "text/html": [
       "<div>\n",
       "<style>\n",
       "    .dataframe thead tr:only-child th {\n",
       "        text-align: right;\n",
       "    }\n",
       "\n",
       "    .dataframe thead th {\n",
       "        text-align: left;\n",
       "    }\n",
       "\n",
       "    .dataframe tbody tr th {\n",
       "        vertical-align: top;\n",
       "    }\n",
       "</style>\n",
       "<table border=\"1\" class=\"dataframe\">\n",
       "  <thead>\n",
       "    <tr style=\"text-align: right;\">\n",
       "      <th></th>\n",
       "      <th>Serial</th>\n",
       "      <th>Threads</th>\n",
       "      <th>Processes</th>\n",
       "      <th>bThreads</th>\n",
       "      <th>bProcesses</th>\n",
       "    </tr>\n",
       "  </thead>\n",
       "  <tbody>\n",
       "    <tr>\n",
       "      <th>0</th>\n",
       "      <td>13.376242</td>\n",
       "      <td>14.463619</td>\n",
       "      <td>14.661030</td>\n",
       "      <td>12.397462</td>\n",
       "      <td>14.150661</td>\n",
       "    </tr>\n",
       "    <tr>\n",
       "      <th>1</th>\n",
       "      <td>NaN</td>\n",
       "      <td>6.251221</td>\n",
       "      <td>8.196927</td>\n",
       "      <td>6.405184</td>\n",
       "      <td>5.665816</td>\n",
       "    </tr>\n",
       "    <tr>\n",
       "      <th>2</th>\n",
       "      <td>NaN</td>\n",
       "      <td>4.200037</td>\n",
       "      <td>6.336868</td>\n",
       "      <td>4.051551</td>\n",
       "      <td>5.063017</td>\n",
       "    </tr>\n",
       "  </tbody>\n",
       "</table>\n",
       "</div>"
      ],
      "text/plain": [
       "      Serial    Threads  Processes   bThreads  bProcesses\n",
       "0  13.376242  14.463619  14.661030  12.397462   14.150661\n",
       "1        NaN   6.251221   8.196927   6.405184    5.665816\n",
       "2        NaN   4.200037   6.336868   4.051551    5.063017"
      ]
     },
     "execution_count": 27,
     "metadata": {},
     "output_type": "execute_result"
    }
   ],
   "source": [
    "pd.DataFrame({\n",
    "    'Serial': [io_serial, None, None],\n",
    "    'Threads': [io_mt1, io_mt2, io_mt4],\n",
    "    'Processes': [io_mp1, io_mp2, io_mp4],\n",
    "    'bThreads': [bio_mt1, bio_mt2, bio_mt4],\n",
    "    'bProcesses': [bio_mp1, bio_mp2, bio_mp4]\n",
    "\n",
    "})[['Serial', 'Threads', 'Processes', 'bThreads', 'bProcesses']]"
   ]
  },
  {
   "cell_type": "markdown",
   "metadata": {
    "slideshow": {
     "slide_type": "notes"
    }
   },
   "source": [
    "Slight increase in perfomance for the processes (not conclusive)"
   ]
  },
  {
   "cell_type": "markdown",
   "metadata": {
    "slideshow": {
     "slide_type": "slide"
    }
   },
   "source": [
    "<center><h1>Numpy Functions</h1></center>\n",
    "<center><h3>Now for some weird things.</h3></center>"
   ]
  },
  {
   "cell_type": "markdown",
   "metadata": {
    "slideshow": {
     "slide_type": "subslide"
    }
   },
   "source": [
    "### Numpy Addition\n",
    "\n",
    "* Does not use parallel processing by default\n",
    "* But will see speedups if multiprocessing used\n",
    "* Because numpy sidesteps python's GIL"
   ]
  },
  {
   "cell_type": "code",
   "execution_count": 13,
   "metadata": {
    "slideshow": {
     "slide_type": "-"
    }
   },
   "outputs": [],
   "source": [
    "def addition(i, base):\n",
    "    start = time.time() - base\n",
    "    res = a + b\n",
    "    stop = time.time() - base\n",
    "    return start,stop\n",
    "\n",
    "DIMS = 5000\n",
    "N = 20\n",
    "DIMS_ARR = [DIMS for i in range(N)]\n",
    "a = np.random.rand(DIMS,DIMS)\n",
    "b = np.random.rand(DIMS,DIMS)"
   ]
  },
  {
   "cell_type": "markdown",
   "metadata": {
    "slideshow": {
     "slide_type": "subslide"
    }
   },
   "source": [
    "<center><h1>Serial</h1></center>"
   ]
  },
  {
   "cell_type": "code",
   "execution_count": 14,
   "metadata": {
    "slideshow": {
     "slide_type": "-"
    }
   },
   "outputs": [
    {
     "name": "stdout",
     "output_type": "stream",
     "text": [
      "1.3918697834\n"
     ]
    },
    {
     "data": {
      "image/png": "[encoded data removed]",
      "text/plain": [
       "<matplotlib.figure.Figure at 0x7fef601f02b0>"
      ]
     },
     "metadata": {
      "needs_background": "light"
     },
     "output_type": "display_data"
    }
   ],
   "source": [
    "begin_time = time.time()\n",
    "np_add_serial = visualize_runtimes([addition(i, begin_time) for i in range(N)],\"Serial\")\n",
    "print(np_add_serial)"
   ]
  },
  {
   "cell_type": "markdown",
   "metadata": {
    "slideshow": {
     "slide_type": "subslide"
    }
   },
   "source": [
    "<center><h1>Multithreading</h1></center>"
   ]
  },
  {
   "cell_type": "code",
   "execution_count": 15,
   "metadata": {
    "slideshow": {
     "slide_type": "-"
    }
   },
   "outputs": [
    {
     "name": "stdout",
     "output_type": "stream",
     "text": [
      "1.37486457825\n",
      "1.2666785717\n"
     ]
    },
    {
     "data": {
      "text/plain": [
       "1.3600711822509766"
      ]
     },
     "execution_count": 15,
     "metadata": {},
     "output_type": "execute_result"
    },
    {
     "data": {
      "image/png": "[encoded data removed]",
      "text/plain": [
       "<matplotlib.figure.Figure at 0x7fef602dcda0>"
      ]
     },
     "metadata": {
      "needs_background": "light"
     },
     "output_type": "display_data"
    }
   ],
   "source": [
    "np_add_mt1 = visualize_runtimes(multithreading(addition, [i for i in range(N)], 1),\"Single Thread\")\n",
    "print(np_add_mt1)\n",
    "\n",
    "np_add_mt2 = visualize_runtimes(multithreading(addition, [i for i in range(N)], 2),MULTITHREADING_TITLE)\n",
    "print(np_add_mt2)\n",
    "\n",
    "np_add_mt4 = visualize_runtimes(multithreading(addition, [i for i in range(N)], 4),MULTITHREADING_TITLE)\n",
    "np_add_mt4"
   ]
  },
  {
   "cell_type": "markdown",
   "metadata": {
    "slideshow": {
     "slide_type": "subslide"
    }
   },
   "source": [
    "<center><h1>Multiprocessing</h1></center>"
   ]
  },
  {
   "cell_type": "code",
   "execution_count": 16,
   "metadata": {
    "slideshow": {
     "slide_type": "-"
    }
   },
   "outputs": [
    {
     "name": "stdout",
     "output_type": "stream",
     "text": [
      "1.29243421555\n",
      "1.33252429962\n",
      "1.43088436127\n"
     ]
    },
    {
     "data": {
      "image/png": "[encoded data removed]",
      "text/plain": [
       "<matplotlib.figure.Figure at 0x7fef602c29e8>"
      ]
     },
     "metadata": {
      "needs_background": "light"
     },
     "output_type": "display_data"
    }
   ],
   "source": [
    "np_add_mp1 = visualize_runtimes(multiprocessing(addition, [i for i in range(N)], 1),\"Single Process\")\n",
    "print(np_add_mp1)\n",
    "\n",
    "np_add_mp2 = visualize_runtimes(multiprocessing(addition, [i for i in range(N)], 2),MULTIPROCESSING_TITLE)\n",
    "print(np_add_mp2)\n",
    "\n",
    "np_add_mp4 = visualize_runtimes(multiprocessing(addition, [i for i in range(N)], 4),MULTIPROCESSING_TITLE)\n",
    "print(np_add_mp4)\n"
   ]
  },
  {
   "cell_type": "markdown",
   "metadata": {
    "slideshow": {
     "slide_type": "subslide"
    }
   },
   "source": [
    "<center><h1>Conclusion</h1></center>\n",
    "<center>Some benefit for numpy addition (operation avoids GIL, but not parallel by default)</center>"
   ]
  },
  {
   "cell_type": "code",
   "execution_count": 17,
   "metadata": {
    "slideshow": {
     "slide_type": "subslide"
    }
   },
   "outputs": [
    {
     "data": {
      "text/html": [
       "<div>\n",
       "<style>\n",
       "    .dataframe thead tr:only-child th {\n",
       "        text-align: right;\n",
       "    }\n",
       "\n",
       "    .dataframe thead th {\n",
       "        text-align: left;\n",
       "    }\n",
       "\n",
       "    .dataframe tbody tr th {\n",
       "        vertical-align: top;\n",
       "    }\n",
       "</style>\n",
       "<table border=\"1\" class=\"dataframe\">\n",
       "  <thead>\n",
       "    <tr style=\"text-align: right;\">\n",
       "      <th></th>\n",
       "      <th>Serial</th>\n",
       "      <th>Threads</th>\n",
       "      <th>Processes</th>\n",
       "    </tr>\n",
       "  </thead>\n",
       "  <tbody>\n",
       "    <tr>\n",
       "      <th>0</th>\n",
       "      <td>1.39187</td>\n",
       "      <td>1.374865</td>\n",
       "      <td>1.292434</td>\n",
       "    </tr>\n",
       "    <tr>\n",
       "      <th>1</th>\n",
       "      <td>NaN</td>\n",
       "      <td>1.266679</td>\n",
       "      <td>1.332524</td>\n",
       "    </tr>\n",
       "    <tr>\n",
       "      <th>2</th>\n",
       "      <td>NaN</td>\n",
       "      <td>1.360071</td>\n",
       "      <td>1.430884</td>\n",
       "    </tr>\n",
       "  </tbody>\n",
       "</table>\n",
       "</div>"
      ],
      "text/plain": [
       "    Serial   Threads  Processes\n",
       "0  1.39187  1.374865   1.292434\n",
       "1      NaN  1.266679   1.332524\n",
       "2      NaN  1.360071   1.430884"
      ]
     },
     "execution_count": 17,
     "metadata": {},
     "output_type": "execute_result"
    }
   ],
   "source": [
    "pd.DataFrame({\n",
    "    'Serial': [np_add_serial, None, None],\n",
    "    'Threads': [np_add_mt1, np_add_mt2, np_add_mt4],\n",
    "    'Processes': [np_add_mp1, np_add_mp2, np_add_mp4],\n",
    "})[['Serial', 'Threads', 'Processes']]"
   ]
  },
  {
   "cell_type": "markdown",
   "metadata": {
    "slideshow": {
     "slide_type": "notes"
    }
   },
   "source": [
    "Multi processing should improve slightly but I'm having memory issues so I think the cost of multiprocessing is bigger than the gain."
   ]
  },
  {
   "cell_type": "markdown",
   "metadata": {
    "slideshow": {
     "slide_type": "subslide"
    }
   },
   "source": [
    "### Dot Product\n",
    "\n",
    "#### Automatic parallel processing built works out of the box\n",
    "#### Depending on BLAS impl, MKL (default with anaconda3) does\n",
    "#### Should NOT see speedups with multithreading/processing"
   ]
  },
  {
   "cell_type": "code",
   "execution_count": 18,
   "metadata": {
    "slideshow": {
     "slide_type": "-"
    }
   },
   "outputs": [],
   "source": [
    "\n",
    "def dot_product(i, base):\n",
    "    start = time.time() - base\n",
    "    res = np.dot(a,b)\n",
    "    stop = time.time() - base\n",
    "    return start,stop\n",
    "\n",
    "DIMS = 3000\n",
    "N = 10\n",
    "DIMS_ARR = [DIMS for i in range(N)]\n",
    "a = np.random.rand(DIMS,DIMS)\n",
    "b = np.random.rand(DIMS,DIMS)"
   ]
  },
  {
   "cell_type": "markdown",
   "metadata": {
    "slideshow": {
     "slide_type": "subslide"
    }
   },
   "source": [
    "<center><h1>Serial</h1></center>"
   ]
  },
  {
   "cell_type": "code",
   "execution_count": 21,
   "metadata": {
    "slideshow": {
     "slide_type": "-"
    }
   },
   "outputs": [
    {
     "name": "stdout",
     "output_type": "stream",
     "text": [
      "4.86350107193\n"
     ]
    },
    {
     "data": {
      "image/png": "[encoded data removed]",
      "text/plain": [
       "<matplotlib.figure.Figure at 0x7fefc6929978>"
      ]
     },
     "metadata": {
      "needs_background": "light"
     },
     "output_type": "display_data"
    }
   ],
   "source": [
    "begin_time = time.time()\n",
    "np_dot_serial = visualize_runtimes([dot_product(i, begin_time) for i in range(N)],\"Serial\")\n",
    "print(np_dot_serial)"
   ]
  },
  {
   "cell_type": "markdown",
   "metadata": {
    "slideshow": {
     "slide_type": "subslide"
    }
   },
   "source": [
    "<center><h1>Multithreading</h1></center>\n"
   ]
  },
  {
   "cell_type": "code",
   "execution_count": 22,
   "metadata": {
    "slideshow": {
     "slide_type": "-"
    }
   },
   "outputs": [
    {
     "name": "stdout",
     "output_type": "stream",
     "text": [
      "4.98927474022\n",
      "5.01878452301\n",
      "9.03310418129\n"
     ]
    },
    {
     "data": {
      "image/png": "[encoded data removed]",
      "text/plain": [
       "<matplotlib.figure.Figure at 0x7fefc672a9b0>"
      ]
     },
     "metadata": {
      "needs_background": "light"
     },
     "output_type": "display_data"
    }
   ],
   "source": [
    "np_dot_mt1 = visualize_runtimes(multithreading(dot_product, [i for i in range(N)], 1),\"Single Thread\")\n",
    "print(np_dot_mt1)\n",
    "\n",
    "np_dot_mt2 = visualize_runtimes(multithreading(dot_product, [i for i in range(N)], 2),MULTITHREADING_TITLE)\n",
    "print(np_dot_mt2)\n",
    "\n",
    "np_dot_mt4 = visualize_runtimes(multithreading(dot_product, [i for i in range(N)], 4),MULTITHREADING_TITLE)\n",
    "print(np_dot_mt4)"
   ]
  },
  {
   "cell_type": "markdown",
   "metadata": {
    "slideshow": {
     "slide_type": "subslide"
    }
   },
   "source": [
    "<center><h1>Multiprocessing</h1></center>"
   ]
  },
  {
   "cell_type": "code",
   "execution_count": 24,
   "metadata": {
    "slideshow": {
     "slide_type": "-"
    }
   },
   "outputs": [
    {
     "name": "stdout",
     "output_type": "stream",
     "text": [
      "5.41053652763\n",
      "5.38284492493\n",
      "6.94524621964\n"
     ]
    },
    {
     "data": {
      "image/png": "[encoded data removed]",
      "text/plain": [
       "<matplotlib.figure.Figure at 0x7fef62418470>"
      ]
     },
     "metadata": {
      "needs_background": "light"
     },
     "output_type": "display_data"
    }
   ],
   "source": [
    "np_dot_mp1 = visualize_runtimes(multiprocessing(dot_product, [i for i in range(N)], 1),\"Single Process\")\n",
    "print(np_dot_mp1)\n",
    "\n",
    "np_dot_mp2 = visualize_runtimes(multiprocessing(dot_product, [i for i in range(N)], 2),MULTIPROCESSING_TITLE)\n",
    "print(np_dot_mp2)\n",
    "\n",
    "np_dot_mp4 = visualize_runtimes(multiprocessing(dot_product, [i for i in range(N)], 4),MULTIPROCESSING_TITLE)\n",
    "print(np_dot_mp4)"
   ]
  },
  {
   "cell_type": "markdown",
   "metadata": {
    "slideshow": {
     "slide_type": "subslide"
    }
   },
   "source": [
    "<center><h1>Conclusion</h1></center>\n",
    "<center>No benefit on dot product (since already parallel)</center>"
   ]
  },
  {
   "cell_type": "code",
   "execution_count": 25,
   "metadata": {
    "slideshow": {
     "slide_type": "-"
    }
   },
   "outputs": [
    {
     "data": {
      "text/html": [
       "<div>\n",
       "<style>\n",
       "    .dataframe thead tr:only-child th {\n",
       "        text-align: right;\n",
       "    }\n",
       "\n",
       "    .dataframe thead th {\n",
       "        text-align: left;\n",
       "    }\n",
       "\n",
       "    .dataframe tbody tr th {\n",
       "        vertical-align: top;\n",
       "    }\n",
       "</style>\n",
       "<table border=\"1\" class=\"dataframe\">\n",
       "  <thead>\n",
       "    <tr style=\"text-align: right;\">\n",
       "      <th></th>\n",
       "      <th>Serial</th>\n",
       "      <th>Threads</th>\n",
       "      <th>Processes</th>\n",
       "    </tr>\n",
       "  </thead>\n",
       "  <tbody>\n",
       "    <tr>\n",
       "      <th>0</th>\n",
       "      <td>4.863501</td>\n",
       "      <td>4.989275</td>\n",
       "      <td>5.410537</td>\n",
       "    </tr>\n",
       "    <tr>\n",
       "      <th>1</th>\n",
       "      <td>NaN</td>\n",
       "      <td>5.018785</td>\n",
       "      <td>5.382845</td>\n",
       "    </tr>\n",
       "    <tr>\n",
       "      <th>2</th>\n",
       "      <td>NaN</td>\n",
       "      <td>9.033104</td>\n",
       "      <td>6.945246</td>\n",
       "    </tr>\n",
       "  </tbody>\n",
       "</table>\n",
       "</div>"
      ],
      "text/plain": [
       "     Serial   Threads  Processes\n",
       "0  4.863501  4.989275   5.410537\n",
       "1       NaN  5.018785   5.382845\n",
       "2       NaN  9.033104   6.945246"
      ]
     },
     "execution_count": 25,
     "metadata": {},
     "output_type": "execute_result"
    }
   ],
   "source": [
    "pd.DataFrame({\n",
    "    'Serial': [np_dot_serial, None, None],\n",
    "    'Threads': [np_dot_mt1, np_dot_mt2, np_dot_mt4],\n",
    "    'Processes': [np_dot_mp1, np_dot_mp2, np_dot_mp4],\n",
    "})[['Serial', 'Threads', 'Processes']]"
   ]
  },
  {
   "cell_type": "markdown",
   "metadata": {
    "slideshow": {
     "slide_type": "slide"
    }
   },
   "source": [
    "<center><h1>Asyncio</h1></center>\n",
    "<center>Event loop</center>"
   ]
  },
  {
   "cell_type": "code",
   "execution_count": 124,
   "metadata": {
    "slideshow": {
     "slide_type": "subslide"
    }
   },
   "outputs": [
    {
     "name": "stdout",
     "output_type": "stream",
     "text": [
      "[(0.004415273666381836, 8.357598781585693), (0.009404659271240234, 7.852656841278076), (0.016423463821411133, 7.848320960998535), (0.02384471893310547, 10.837506532669067), (0.010811328887939453, 7.805081605911255), (0.019449710845947266, 8.740798234939575), (0.020218849182128906, 7.851454973220825), (0.017194509506225586, 5.364452362060547), (0.0012633800506591797, 9.043578386306763), (0.0030248165130615234, 7.850981712341309), (0.015553712844848633, 1.5862011909484863), (0.005736112594604492, 7.7730395793914795), (0.01184391975402832, 7.849290609359741), (0.008010149002075195, 1.6423323154449463), (0.01858973503112793, 1.5983083248138428), (0.02298736572265625, 10.804126262664795)]\n"
     ]
    }
   ],
   "source": [
    "import aiohttp\n",
    "import asyncio\n",
    "\n",
    "async def async_download(session, url, base):\n",
    "    start = time.time() - base\n",
    "    async with session.get(url) as response:\n",
    "        resp = response.text()\n",
    "        stop = time.time() - base\n",
    "        return start,stop\n",
    "            \n",
    "    \n",
    "async def main():\n",
    "    async with aiohttp.ClientSession() as session:\n",
    "        begin_time = time.time()\n",
    "        results = await asyncio.gather(*[\n",
    "            async_download(session, url, begin_time) for url in urls\n",
    "        ])\n",
    "        print(results)\n",
    "        visualize_runtimes(results, 'ASYNC IO')\n",
    "\n",
    "loop = asyncio.get_event_loop()\n",
    "task = loop.create_task(main())\n",
    "future = loop.create_future()"
   ]
  },
  {
   "cell_type": "code",
   "execution_count": 125,
   "metadata": {
    "slideshow": {
     "slide_type": "subslide"
    }
   },
   "outputs": [
    {
     "data": {
      "image/png": "[encoded data removed]",
      "text/plain": [
       "<matplotlib.figure.Figure at 0x7fefb80d4710>"
      ]
     },
     "metadata": {
      "needs_background": "light"
     },
     "output_type": "display_data"
    }
   ],
   "source": [
    "task.result()"
   ]
  },
  {
   "cell_type": "markdown",
   "metadata": {
    "slideshow": {
     "slide_type": "notes"
    }
   },
   "source": [
    "You have to use compatible libraries (alternative is greenlet that monkey patches blocking standard library calls.)\n",
    "Results should be similar to multithreading without the cost of making threads.\n"
   ]
  },
  {
   "cell_type": "markdown",
   "metadata": {
    "slideshow": {
     "slide_type": "slide"
    }
   },
   "source": [
    "<center><h1>Conclusion</h1></center>\n",
    "<center><img src=\"images/profile_it.png\"></center>"
   ]
  },
  {
   "cell_type": "markdown",
   "metadata": {
    "slideshow": {
     "slide_type": "notes"
    }
   },
   "source": [
    "Multi processing might help you ... or not.\n",
    "\n",
    "It's not a silver bullet. Measure it."
   ]
  },
  {
   "cell_type": "code",
   "execution_count": null,
   "metadata": {},
   "outputs": [],
   "source": []
  }
 ],
 "metadata": {
  "celltoolbar": "Slideshow",
  "kernelspec": {
   "display_name": "customer_analytic_qa",
   "language": "python",
   "name": "customer_analytic_qa"
  },
  "language_info": {
   "codemirror_mode": {
    "name": "ipython",
    "version": 3
   },
   "file_extension": ".py",
   "mimetype": "text/x-python",
   "name": "python",
   "nbconvert_exporter": "python",
   "pygments_lexer": "ipython3",
   "version": "3.6.8"
  }
 },
 "nbformat": 4,
 "nbformat_minor": 2
}
